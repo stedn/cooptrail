{
 "cells": [
  {
   "cell_type": "code",
   "execution_count": 1,
   "metadata": {},
   "outputs": [
    {
     "name": "stdout",
     "output_type": "stream",
     "text": [
      "Collecting geopy\n",
      "\u001b[?25l  Downloading https://files.pythonhosted.org/packages/e1/e1/45f25e3d3acf26782888f847de7c958a2807a039210fb1016cc3fb9555c4/geopy-2.2.0-py3-none-any.whl (118kB)\n",
      "\u001b[K     |████████████████████████████████| 122kB 3.9MB/s eta 0:00:01\n",
      "\u001b[?25hCollecting geographiclib<2,>=1.49 (from geopy)\n",
      "  Downloading https://files.pythonhosted.org/packages/df/60/d1d4c4944f9726228faa80fbe2206c8ddfd9757791b2de2facb8818c5d74/geographiclib-1.52-py3-none-any.whl\n",
      "Installing collected packages: geographiclib, geopy\n",
      "Successfully installed geographiclib-1.52 geopy-2.2.0\n"
     ]
    }
   ],
   "source": [
    "# !pip install geopy"
   ]
  },
  {
   "cell_type": "code",
   "execution_count": 1,
   "metadata": {},
   "outputs": [],
   "source": [
    "from geopy.geocoders import GoogleV3\n",
    "geolocator = GoogleV3(api_key=\"\")"
   ]
  },
  {
   "cell_type": "code",
   "execution_count": 2,
   "metadata": {},
   "outputs": [],
   "source": [
    "from bs4 import BeautifulSoup\n",
    "import requests"
   ]
  },
  {
   "cell_type": "code",
   "execution_count": 3,
   "metadata": {},
   "outputs": [
    {
     "name": "stdout",
     "output_type": "stream",
     "text": [
      "<Response [200]>\n"
     ]
    }
   ],
   "source": [
    "website = requests.get('https://www.bikecollectives.org/wiki/Community_Bicycle_Organizations')\n",
    "print(website)"
   ]
  },
  {
   "cell_type": "code",
   "execution_count": 4,
   "metadata": {
    "scrolled": true
   },
   "outputs": [],
   "source": [
    "soup = BeautifulSoup(website.content, 'html.parser')"
   ]
  },
  {
   "cell_type": "code",
   "execution_count": 61,
   "metadata": {},
   "outputs": [],
   "source": []
  },
  {
   "cell_type": "code",
   "execution_count": 62,
   "metadata": {},
   "outputs": [],
   "source": [
    "tst = soup.find_all('h2',text='United States')[0].next_sibling\n",
    "ind = 0\n",
    "state = ''\n",
    "to_store = []\n",
    "while True:\n",
    "    tst = tst.next_sibling\n",
    "    if tst.name=='h2':\n",
    "        break\n",
    "    ind += 1\n",
    "    if (tst.name=='h3'):\n",
    "        state = tst.text\n",
    "        continue\n",
    "    if (tst.name=='ul'):\n",
    "        for item in tst.find_all('li'):\n",
    "            if not item.div and item.text != '':\n",
    "                name = item.text.split('(')[0].strip()\n",
    "                city = ''\n",
    "                if '(' in item.text:\n",
    "                    city = item.text.split('(')[1].replace(')','').strip()\n",
    "                url = ''\n",
    "                if (item.a):\n",
    "                    url = 'https://www.bikecollectives.org'+item.a['href']\n",
    "                to_store.append({'name': name,\n",
    "                                 'city': city,\n",
    "                                 'state': state,\n",
    "                                 'search_string': f'{name}, {city}, {state}',\n",
    "                                 'url':url})\n",
    "                            \n"
   ]
  },
  {
   "cell_type": "code",
   "execution_count": 64,
   "metadata": {},
   "outputs": [
    {
     "data": {
      "text/plain": [
       "243"
      ]
     },
     "execution_count": 64,
     "metadata": {},
     "output_type": "execute_result"
    }
   ],
   "source": [
    "len(to_store)"
   ]
  },
  {
   "cell_type": "code",
   "execution_count": 65,
   "metadata": {},
   "outputs": [],
   "source": [
    "for w in to_store:\n",
    "    location = geolocator.geocode(w['search_string'])\n",
    "    if location:\n",
    "        w['geocode']=location[1]\n",
    "        w['lat']=location[1][0]\n",
    "        w['lon']=location[1][1]"
   ]
  },
  {
   "cell_type": "code",
   "execution_count": 66,
   "metadata": {},
   "outputs": [],
   "source": [
    "import pandas as pd"
   ]
  },
  {
   "cell_type": "code",
   "execution_count": 67,
   "metadata": {},
   "outputs": [],
   "source": [
    "pd.DataFrame(to_store).to_csv('bike_coops.csv')"
   ]
  },
  {
   "cell_type": "code",
   "execution_count": 68,
   "metadata": {},
   "outputs": [],
   "source": [
    "import json"
   ]
  },
  {
   "cell_type": "code",
   "execution_count": 70,
   "metadata": {},
   "outputs": [],
   "source": [
    "feature_dict = [\n",
    "    {\n",
    "      \"type\": \"Feature\",\n",
    "      \"properties\": {\n",
    "        \"_umap_options\": {\n",
    "          \"iconClass\": \"Drop\",\n",
    "          \"iconUrl\": \"/uploads/pictogram/bicycle-24-white.png\",\n",
    "          \"color\": \"LimeGreen\"\n",
    "        },\n",
    "        \"description\": \"\",\n",
    "        \"name\": f\"[[{i['url']}|{i['name']}]]\" if 'url' in i else i['name']\n",
    "      },\n",
    "      \"geometry\": {\n",
    "        \"type\": \"Point\",\n",
    "        \"coordinates\": [\n",
    "          i['lon'],\n",
    "          i['lat']\n",
    "        ]\n",
    "      }\n",
    "    } for i in to_store if 'lat' in i]\n",
    "\n",
    "with open(\"bike_coops.geojson\", \"w\") as outfile:\n",
    "    json.dump({\"type\": \"FeatureCollection\", \"features\": feature_dict}, outfile, indent=4)\n"
   ]
  },
  {
   "cell_type": "code",
   "execution_count": null,
   "metadata": {},
   "outputs": [],
   "source": []
  }
 ],
 "metadata": {
  "kernelspec": {
   "display_name": "Python 3",
   "language": "python",
   "name": "python3"
  },
  "language_info": {
   "codemirror_mode": {
    "name": "ipython",
    "version": 3
   },
   "file_extension": ".py",
   "mimetype": "text/x-python",
   "name": "python",
   "nbconvert_exporter": "python",
   "pygments_lexer": "ipython3",
   "version": "3.7.4"
  }
 },
 "nbformat": 4,
 "nbformat_minor": 2
}
